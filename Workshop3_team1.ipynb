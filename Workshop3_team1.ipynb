{
 "cells": [
  {
   "cell_type": "markdown",
   "id": "f19f0959",
   "metadata": {},
   "source": [
    "# Excersize \n",
    "<br>\n",
    "<div style=\"direction:rtl; color:blue; font-size:150%;\">\n",
    "تابعی بنویسید که دو ضلع کوتاه تر یک مثلث قائم الزاویه را از ورودی دریافت کرده و اندازه وتر را برگرداند.\n",
    "<br>\n"
   ]
  },
  {
   "cell_type": "code",
   "execution_count": 34,
   "id": "48cc5cca",
   "metadata": {},
   "outputs": [
    {
     "name": "stdout",
     "output_type": "stream",
     "text": [
      "Enter the first side :3\n",
      "Enter the second side :4\n",
      "Hypotenuse = 5.0\n"
     ]
    }
   ],
   "source": [
    "from math import sqrt\n",
    "def pythagoras(a,b):\n",
    "  \n",
    "    \n",
    "    c = (a**2) + (b**2)\n",
    "    print(f'Hypotenuse = {sqrt(c)}') \n",
    "    \n",
    "a = int(input('Enter the first side :'))\n",
    "b = int(input('Enter the second side :'))    \n",
    "pythagoras(a,b)\n",
    "    \n",
    "     \n",
    " "
   ]
  },
  {
   "cell_type": "markdown",
   "id": "31dbd3b2",
   "metadata": {},
   "source": [
    "# Excersize \n",
    "<br>\n",
    "<div style=\"direction:rtl; color:blue; font-size:150%;\">\n",
    "نحوه محاسبه کرایه تاکسی براساس مسافت طی شده بر حسب کیلومتر است. به این صورت که مبلغ ورودی و برای 10 کیلومتر اول معادل 4 دلار و به ازای هر کیلومتر اضافی 0.25 دلار به کرایه افزوده می شود. برنامه ای بنویسید که کرایه تاکسی(تاکسی متر) را محاسبه نماید. \n",
    "<br>\n"
   ]
  },
  {
   "cell_type": "code",
   "execution_count": 9,
   "id": "5687b13d",
   "metadata": {},
   "outputs": [
    {
     "name": "stdout",
     "output_type": "stream",
     "text": [
      "Enter the distance traveled (km) : 22\n",
      "taxi_fares = 7.0 $\n"
     ]
    }
   ],
   "source": [
    "x = int(input('Enter the distance traveled (km) : '))\n",
    "k = 10\n",
    "taxi_fares = 4\n",
    "if x == 10 :\n",
    "    print(f'taxi_fares = {taxi_fares} $')\n",
    "if x > 10 :\n",
    "    s = -(k - x) \n",
    "    y = s * 0.25 \n",
    "    print(f'taxi_fares = {taxi_fares+y} $')"
   ]
  },
  {
   "cell_type": "markdown",
   "id": "4640c233",
   "metadata": {
    "run_control": {
     "marked": true
    }
   },
   "source": [
    "# Excersize \n",
    "<br>\n",
    "<div style=\"direction:rtl; color:blue; font-size:150%;\">\n",
    "برنامه ای بنویسید که سه عدد از ورودی را دریافت نموده و مقدار میانه \n",
    "(Median)\n",
    "را به عنوان نتیجه در خروجی بازگرداند.\n",
    "    برنامه را در قالب یک \n",
    "    main\n",
    "    فایل پیاده سازی نمائید که بتوان آن را در برنامه \n",
    "    import \n",
    "    نمود.\n",
    "</div>\n",
    "    "
   ]
  },
  {
   "cell_type": "code",
   "execution_count": 1,
   "id": "f4a003f1",
   "metadata": {},
   "outputs": [
    {
     "name": "stdout",
     "output_type": "stream",
     "text": [
      "Enter number 1 :5\n",
      "Enter number 2 :6\n",
      "Enter number 3 :9\n",
      "Median = 6 \n"
     ]
    }
   ],
   "source": [
    "from statistics import median\n",
    "def med(x):\n",
    "    c = median(x) \n",
    "    print(f'Median = {c} ')\n",
    "\n",
    "    \n",
    "    \n",
    "    \n",
    "x = []    \n",
    "for i in range(1,4):\n",
    "        y = int(input(f'Enter number {i} :'))\n",
    "        x.append(y)\n",
    "med(x)        "
   ]
  },
  {
   "cell_type": "code",
   "execution_count": 2,
   "id": "f9b642b4",
   "metadata": {},
   "outputs": [
    {
     "name": "stdout",
     "output_type": "stream",
     "text": [
      "Enter number 1 :6\n",
      "Enter number 2 :6\n",
      "Enter number 3 :9\n",
      "Median = 6 \n"
     ]
    }
   ],
   "source": [
    "from statistics import median\n",
    "def main(x):\n",
    "    c = median(x) \n",
    "    print(f'Median = {c} ')\n",
    "\n",
    "    \n",
    "    \n",
    "    \n",
    "x = []    \n",
    "for i in range(1,4):\n",
    "        y = int(input(f'Enter number {i} :'))\n",
    "        x.append(y)\n",
    "main(x)        "
   ]
  },
  {
   "cell_type": "markdown",
   "id": "53e92f2f",
   "metadata": {},
   "source": [
    "# Excersize \n",
    "<br>\n",
    "<div style=\"direction:rtl; color:blue; font-size:150%;\">\n",
    "برنامه ای بنویسید که یک متن رشته ای از کاربر دریافت نموده و آن را درست در وسط ترمینال خروجی چاپ نماید. برای این کار تابعی بنویسید که به عنوان پارامتر اول رشته و به عنوان پارامتر دوم عرض ترمینال برجسب کاراکتر را دریافت نماید و خروجی تابع یک رشته است که متن  در وسط ان قرار داده شده است.\n",
    "</div>"
   ]
  },
  {
   "cell_type": "code",
   "execution_count": 6,
   "id": "d994b6be",
   "metadata": {},
   "outputs": [
    {
     "name": "stdout",
     "output_type": "stream",
     "text": [
      "Enter your string : Heloo\n",
      "Enter the width of the terminal with a character ****\n",
      "**** Heloo ****\n"
     ]
    }
   ],
   "source": [
    "def st(x,y):\n",
    "    print(y,x,y)\n",
    "\n",
    "\n",
    "x = input('Enter your string : ')\n",
    "y = input('Enter the width of the terminal with a character ')\n",
    "st(x,y)"
   ]
  },
  {
   "cell_type": "markdown",
   "id": "ccfbfed6",
   "metadata": {},
   "source": [
    "# Excersize \n",
    "<br>\n",
    "<div style=\"direction:rtl; color:blue; font-size:150%;\">\n",
    "برنامه ای بنویسید که طول سه ضلع را از ورودی دریافت کرده و در خروجی نشان دهد آیا با آن سه ضلع می توان یک مثلث رسم نمود یا نه\n",
    "</div>"
   ]
  },
  {
   "cell_type": "code",
   "execution_count": 3,
   "id": "30a1d98c",
   "metadata": {},
   "outputs": [
    {
     "name": "stdout",
     "output_type": "stream",
     "text": [
      "Enter the first side :5\n",
      "Enter the second side :4\n",
      "Enter the third side :3\n",
      "yes\n"
     ]
    }
   ],
   "source": [
    "x1= int(input('Enter the first side :'))\n",
    "x2= int(input('Enter the second side :'))\n",
    "x3= int(input('Enter the third side :'))\n",
    "if x1<x2+x3 and x2<x3+x1 and x3<x2+x1 :\n",
    "    print('yes')\n",
    "else:\n",
    "    print('no')\n",
    "        "
   ]
  },
  {
   "cell_type": "markdown",
   "id": "7e3b75e7",
   "metadata": {
    "run_control": {
     "marked": true
    }
   },
   "source": [
    "# Excersize \n",
    "<br>\n",
    "<div style=\"direction:rtl; color:blue; font-size:150%;\">\n",
    "برنامه ای بنویسید که یک رشته به زبان انگلیسی را از ورودی دریافت نموده و در خروجی کاراکترهای زیر را به حروف بزرگ\n",
    "Capitalize\n",
    "کرده باشد.\n",
    "</div>\n",
    "<div style=\"direction:rtl; color:blue; font-size:150%;\">\n",
    "    <br>\n",
    "    • Capitalize the first non-space character in the string,\n",
    "    <br>\n",
    "    • Capitalize the first non-space character after a period, exclamationmark or question\n",
    "        mark, and\n",
    "    <br>\n",
    "    • Capitalize a lowercase “i” if it is preceded by a space and followed by a space,\n",
    "        period, exclamation mark, question mark or apostrophe.\n",
    "    <br>\n",
    "    \n",
    "</div>\n",
    "<br>\n"
   ]
  },
  {
   "cell_type": "code",
   "execution_count": 10,
   "id": "d7406c05",
   "metadata": {},
   "outputs": [
    {
     "name": "stdout",
     "output_type": "stream",
     "text": [
      "Enter your stringheloo\n",
      "Heloo\n"
     ]
    }
   ],
   "source": [
    "A = input('Enter your string')\n",
    "B = A.capitalize()\n",
    "print(B)"
   ]
  },
  {
   "cell_type": "markdown",
   "id": "54d7083a",
   "metadata": {},
   "source": [
    "# Excersize \n",
    "<br>\n",
    "<div style=\"direction:rtl; color:blue; font-size:150%;\">\n",
    "برنامه ای بنویسید که یک رشته را از ورودی دریافت نموده و بررسی نماید که آیا تمام کاراکترهای موجود در آن مقادیر اینتیجر هستند یا نه؟\n",
    "برای بررسی رشته حتما ابتدا فضای خالی ابتدا و انتهای رشته را حذف نمائید.\n",
    "</div>\n"
   ]
  },
  {
   "cell_type": "code",
   "execution_count": 17,
   "id": "91df50be",
   "metadata": {},
   "outputs": [
    {
     "name": "stdout",
     "output_type": "stream",
     "text": [
      "Enter your string : 21312\n",
      "Yes\n"
     ]
    }
   ],
   "source": [
    "x = input('Enter your string : ')\n",
    "if x.isdigit():\n",
    "    print('Yes')\n"
   ]
  },
  {
   "cell_type": "markdown",
   "id": "6bf1e98c",
   "metadata": {},
   "source": [
    "# Excersize \n",
    "<br>\n",
    "<div style=\"direction:rtl; color:blue; font-size:150%;\">\n",
    "برنامه ای بنویسید که یک پسورد تصادفی به طول 7 الی 10 کاراکتر تولید کند. پسورد باید براساس کد اسکی حاوی حروف کوچک، حروف بزرگ، اعداد و کاراکترهای زیر باشد\n",
    "{-, _, *, @, #, ~, !, +, *}\n",
    "</div>"
   ]
  },
  {
   "cell_type": "code",
   "execution_count": 1,
   "id": "2c552807",
   "metadata": {},
   "outputs": [
    {
     "name": "stdout",
     "output_type": "stream",
     "text": [
      "Please Enter The Password Range : 8\n",
      "So8YS$IT"
     ]
    }
   ],
   "source": [
    "import random\n",
    "pass_range = int(input('Please Enter The Password Range : '))\n",
    "alefba = ('abcdefglomnp123456789_*#$@!%ASDFGHJKLMNBVCXZQWERTYUIOP')\n",
    "\n",
    "if pass_range >= 7:\n",
    "    for i in range(pass_range):\n",
    "        i = random.choice(alefba)\n",
    "        print(i, end= '')\n",
    "        \n",
    "else:\n",
    "    print('You Can Not Choice <7 Number !')"
   ]
  },
  {
   "cell_type": "markdown",
   "id": "bdecda6d",
   "metadata": {},
   "source": [
    "# Excersize \n",
    "<br>\n",
    "<div style=\"direction:rtl; color:blue; font-size:150%;\">\n",
    "برنامه ای بنویسید که معتبر بودن یک پسور را براساس قوانین زیر بررسی کند.\n",
    "    1- طول پسورد حداقل 8 کاراکتر باشد\n",
    "    2- پسورد حتما حاوی حروف کوچک، بزرگ، اعداد و کاراکترهای خاص تمرین 8 باشد\n",
    "</div>"
   ]
  },
  {
   "cell_type": "code",
   "execution_count": 2,
   "id": "afd2f033",
   "metadata": {},
   "outputs": [
    {
     "name": "stdout",
     "output_type": "stream",
     "text": [
      "Enter your password :So8YS$IT\n",
      "Valid Password\n"
     ]
    }
   ],
   "source": [
    "l, u, p, d = 0, 0, 0, 0\n",
    "s = input('Enter your password :')\n",
    "if (len(s) >= 8):\n",
    "    for i in s:\n",
    "        if (i.islower()):\n",
    "            l+=1            \n",
    "        if (i.isupper()):\n",
    "            u+=1            \n",
    "        if (i.isdigit()):\n",
    "            d+=1           \n",
    "        if(i=='@'or i=='$' or i=='_'):\n",
    "            p+=1           \n",
    "if (l>=1 and u>=1 and p>=1 and d>=1 and l+p+u+d==len(s)):\n",
    "    print(\"Valid Password\")\n",
    "else:\n",
    "    print(\"Invalid Password\")\n",
    "    \n",
    " \n",
    "\n"
   ]
  },
  {
   "cell_type": "markdown",
   "id": "49fc2c8f",
   "metadata": {},
   "source": [
    "# Excersize \n",
    "<br>\n",
    "<div style=\"direction:rtl; color:blue; font-size:150%;\">\n",
    "ماژولی پیاده سازی نمائید شامل توابع زیر که بتواند کلیه اعمال مربوط به اعتبارسنجی ورودی توسط کاربر را انجام دهد.\n",
    "    1- بررسی کلیه کارکترهای ورودی عددی باشد\n",
    "    2- بررسی کلیه کاراکترهای ورودی حروف الفبا باشد\n",
    "    3- شماره تلفن فرمت درستی داشته باشد\n",
    "    4- شماره موبایل فرمت درستی داشته باشد\n",
    "    5- آدرس ایمیل فرمت درستی داشته باشد\n",
    "    6- پسورد ورودی مطابق قوانین تعریف شده در تمرین های 7و 8 باشد\n",
    "    7- آدرس پستی شامل کاراکتر، عدد و خط تیره باشد\n",
    "    8- کدپستی مطابق استاندارد ده رقمی و حاوی عدد باشد\n",
    "</div>"
   ]
  },
  {
   "cell_type": "code",
   "execution_count": 3,
   "id": "b33efa9f",
   "metadata": {},
   "outputs": [
    {
     "name": "stdout",
     "output_type": "stream",
     "text": [
      "Enter your string : 1313\n",
      "yes\n"
     ]
    }
   ],
   "source": [
    "def number(x):\n",
    "    if x.isdigit():\n",
    "        print('yes')\n",
    "    else:\n",
    "        print('No')\n",
    "\n",
    "x = input('Enter your string : ') \n",
    "number(x)\n"
   ]
  },
  {
   "cell_type": "code",
   "execution_count": 4,
   "id": "66b35164",
   "metadata": {},
   "outputs": [
    {
     "name": "stdout",
     "output_type": "stream",
     "text": [
      "Enter your string : javad\n",
      "yes\n"
     ]
    }
   ],
   "source": [
    "def alepha(x):\n",
    "    if x.isalpha():\n",
    "        print('yes')\n",
    "    else:\n",
    "        print('No')\n",
    "\n",
    "x = input('Enter your string : ') \n",
    "alepha(x)"
   ]
  },
  {
   "cell_type": "code",
   "execution_count": 5,
   "id": "2211bdca",
   "metadata": {},
   "outputs": [
    {
     "name": "stdout",
     "output_type": "stream",
     "text": [
      "Enter your telephone number : 01132341779\n",
      "Valid\n"
     ]
    }
   ],
   "source": [
    "import re\n",
    "def telephone(x):\n",
    "    y = '^(011|021)(\\d{8}$)'\n",
    "    c=re.findall(y,x)\n",
    "    if c :\n",
    "        print('Valid')\n",
    "    else:\n",
    "        print('invalid')\n",
    "x = input('Enter your telephone number : ') \n",
    "telephone(x)"
   ]
  },
  {
   "cell_type": "code",
   "execution_count": 6,
   "id": "40116d93",
   "metadata": {},
   "outputs": [
    {
     "name": "stdout",
     "output_type": "stream",
     "text": [
      "Enter your phone number : 09112150367\n",
      "Valid\n"
     ]
    }
   ],
   "source": [
    "import re\n",
    "def phon(x):\n",
    "    y = '^(0911|0937)(\\d{7}$)'\n",
    "    c=re.findall(y,x)\n",
    "    if c :\n",
    "        print('Valid')\n",
    "    else:\n",
    "        print('invalid')\n",
    "x = input('Enter your phone number : ') \n",
    "phon(x)"
   ]
  },
  {
   "cell_type": "code",
   "execution_count": 7,
   "id": "d47aea77",
   "metadata": {},
   "outputs": [
    {
     "name": "stdout",
     "output_type": "stream",
     "text": [
      "Enter your email : ali@gmail.com\n",
      "Valid\n"
     ]
    }
   ],
   "source": [
    "import re\n",
    "def email(x):\n",
    "    y = '.+\\@.+\\..+'\n",
    "    c=re.findall(y,x)\n",
    "    if c :\n",
    "        print('Valid')\n",
    "    else:\n",
    "        print('invalid')\n",
    "x = input('Enter your email : ') \n",
    "email(x)"
   ]
  },
  {
   "cell_type": "code",
   "execution_count": 8,
   "id": "34b6af64",
   "metadata": {},
   "outputs": [
    {
     "name": "stdout",
     "output_type": "stream",
     "text": [
      "Enter your password :So8YS$IT\n",
      "Valid Password\n"
     ]
    }
   ],
   "source": [
    "def password(s):\n",
    "    l, u, p, d = 0, 0, 0, 0\n",
    "    if (len(s) >= 8):\n",
    "        for i in s:\n",
    "            if (i.islower()):\n",
    "                l+=1            \n",
    "            if (i.isupper()):\n",
    "                u+=1            \n",
    "            if (i.isdigit()):\n",
    "                d+=1           \n",
    "            if(i=='@'or i=='$' or i=='_'):\n",
    "                p+=1           \n",
    "    if (l>=1 and u>=1 and p>=1 and d>=1 and l+p+u+d==len(s)):\n",
    "        print(\"Valid Password\")\n",
    "    else:\n",
    "        print(\"Invalid Password\")\n",
    "    \n",
    "s = input('Enter your password :')\n",
    "password(s)"
   ]
  },
  {
   "cell_type": "code",
   "execution_count": 9,
   "id": "c37a096b",
   "metadata": {},
   "outputs": [
    {
     "name": "stdout",
     "output_type": "stream",
     "text": [
      "Enter your  post address : 0193981289\n",
      "Valid\n"
     ]
    }
   ],
   "source": [
    "def code_post(x):\n",
    "    if len(x)==10 and x.isdigit()  :\n",
    "        print('Valid')\n",
    "    else:\n",
    "        print('invalid')\n",
    "x = input('Enter your  post address : ') \n",
    "code_post(x)\n"
   ]
  }
 ],
 "metadata": {
  "kernelspec": {
   "display_name": "Python 3 (ipykernel)",
   "language": "python",
   "name": "python3"
  },
  "language_info": {
   "codemirror_mode": {
    "name": "ipython",
    "version": 3
   },
   "file_extension": ".py",
   "mimetype": "text/x-python",
   "name": "python",
   "nbconvert_exporter": "python",
   "pygments_lexer": "ipython3",
   "version": "3.9.7"
  },
  "toc": {
   "base_numbering": 1,
   "nav_menu": {
    "height": "180px",
    "width": "202px"
   },
   "number_sections": true,
   "sideBar": true,
   "skip_h1_title": false,
   "title_cell": "Table of Contents",
   "title_sidebar": "Contents",
   "toc_cell": false,
   "toc_position": {},
   "toc_section_display": true,
   "toc_window_display": false
  },
  "varInspector": {
   "cols": {
    "lenName": 16,
    "lenType": 16,
    "lenVar": 40
   },
   "kernels_config": {
    "python": {
     "delete_cmd_postfix": "",
     "delete_cmd_prefix": "del ",
     "library": "var_list.py",
     "varRefreshCmd": "print(var_dic_list())"
    },
    "r": {
     "delete_cmd_postfix": ") ",
     "delete_cmd_prefix": "rm(",
     "library": "var_list.r",
     "varRefreshCmd": "cat(var_dic_list()) "
    }
   },
   "types_to_exclude": [
    "module",
    "function",
    "builtin_function_or_method",
    "instance",
    "_Feature"
   ],
   "window_display": false
  }
 },
 "nbformat": 4,
 "nbformat_minor": 5
}
