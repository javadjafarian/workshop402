{
 "cells": [
  {
   "cell_type": "code",
   "execution_count": null,
   "id": "55de1406",
   "metadata": {},
   "outputs": [],
   "source": [
    "from statistics import median\n",
    "def med(x):\n",
    "    c = median(x) \n",
    "    print(f'Median = {c} ')\n",
    "\n",
    "    \n",
    "    \n",
    "    \n",
    "x = []    \n",
    "for i in range(1,4):\n",
    "        y = int(input(f'Enter number {i} :'))\n",
    "        x.append(y)\n",
    "med(x)        "
   ]
  },
  {
   "cell_type": "code",
   "execution_count": null,
   "id": "681ebcf8",
   "metadata": {},
   "outputs": [],
   "source": [
    "from statistics import median\n",
    "def main(x):\n",
    "    c = median(x) \n",
    "    print(f'Median = {c} ')\n",
    "\n",
    "    \n",
    "    \n",
    "    \n",
    "x = []    \n",
    "for i in range(1,4):\n",
    "        y = int(input(f'Enter number {i} :'))\n",
    "        x.append(y)\n",
    "main(x)        "
   ]
  }
 ],
 "metadata": {
  "kernelspec": {
   "display_name": "Python 3 (ipykernel)",
   "language": "python",
   "name": "python3"
  },
  "language_info": {
   "codemirror_mode": {
    "name": "ipython",
    "version": 3
   },
   "file_extension": ".py",
   "mimetype": "text/x-python",
   "name": "python",
   "nbconvert_exporter": "python",
   "pygments_lexer": "ipython3",
   "version": "3.9.7"
  }
 },
 "nbformat": 4,
 "nbformat_minor": 5
}
